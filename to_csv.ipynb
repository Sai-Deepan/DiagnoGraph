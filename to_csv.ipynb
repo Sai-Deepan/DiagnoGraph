{
 "cells": [
  {
   "cell_type": "code",
   "execution_count": 1,
   "id": "8d78fb60",
   "metadata": {},
   "outputs": [
    {
     "name": "stdout",
     "output_type": "stream",
     "text": [
      "✅ Data exported to health_records.csv\n"
     ]
    }
   ],
   "source": [
    "import mysql.connector\n",
    "import pandas as pd\n",
    "\n",
    "# --- Database Connection ---\n",
    "conn = mysql.connector.connect(\n",
    "    host=\"localhost\",\n",
    "    user=\"root\",\n",
    "    password=\"ssm\",\n",
    "    database=\"hospital\"\n",
    ")\n",
    "cursor = conn.cursor()\n",
    "\n",
    "# --- Fetch the full HealthRecords table (or you can filter by patient_id) ---\n",
    "cursor.execute(\"\"\"\n",
    "    SELECT patient_id, date_recorded, blood_pressure_systolic, blood_pressure_diastolic,\n",
    "           heart_rate, blood_sugar_level, weight, height, BMI\n",
    "    FROM HealthRecords\n",
    "    ORDER BY patient_id, date_recorded\n",
    "\"\"\")\n",
    "\n",
    "# Fetch all rows\n",
    "records = cursor.fetchall()\n",
    "\n",
    "# Get column names from cursor\n",
    "columns = [desc[0] for desc in cursor.description]\n",
    "\n",
    "# Close connection\n",
    "conn.close()\n",
    "\n",
    "# --- Convert to Pandas DataFrame ---\n",
    "df = pd.DataFrame(records, columns=columns)\n",
    "\n",
    "# --- Save to CSV ---\n",
    "df.to_csv(\"health_records.csv\", index=False)\n",
    "\n",
    "print(\"✅ Data exported to health_records.csv\")\n"
   ]
  }
 ],
 "metadata": {
  "kernelspec": {
   "display_name": "Python 3",
   "language": "python",
   "name": "python3"
  },
  "language_info": {
   "codemirror_mode": {
    "name": "ipython",
    "version": 3
   },
   "file_extension": ".py",
   "mimetype": "text/x-python",
   "name": "python",
   "nbconvert_exporter": "python",
   "pygments_lexer": "ipython3",
   "version": "3.11.9"
  }
 },
 "nbformat": 4,
 "nbformat_minor": 5
}
