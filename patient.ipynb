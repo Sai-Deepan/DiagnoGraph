{
 "cells": [
  {
   "cell_type": "code",
   "execution_count": 3,
   "id": "5e0e17df",
   "metadata": {},
   "outputs": [
    {
     "name": "stdout",
     "output_type": "stream",
     "text": [
      "✅ All patient details exported successfully\n"
     ]
    }
   ],
   "source": [
    "import mysql.connector\n",
    "import pandas as pd\n",
    "\n",
    "# --- Database Connection ---\n",
    "conn = mysql.connector.connect(\n",
    "    host=\"localhost\",\n",
    "    user=\"root\",\n",
    "    password=\"ssm\",\n",
    "    database=\"hospital\"\n",
    ")\n",
    "cursor = conn.cursor()\n",
    "\n",
    "# --- Fetch all patient details ---\n",
    "cursor.execute(\"SELECT * FROM Patients\")\n",
    "patients_data = cursor.fetchall()\n",
    "\n",
    "# --- Fetch column names from Patients table ---\n",
    "cursor.execute(\"SHOW COLUMNS FROM Patients\")\n",
    "columns = [col[0] for col in cursor.fetchall()]\n",
    "\n",
    "# --- Convert to DataFrame and save as CSV ---\n",
    "df = pd.DataFrame(patients_data, columns=columns)\n",
    "df.to_csv(\"all_patients_details.csv\", index=False)\n",
    "\n",
    "print(\"✅ All patient details exported successfully\")\n",
    "\n"
   ]
  }
 ],
 "metadata": {
  "kernelspec": {
   "display_name": "Python 3",
   "language": "python",
   "name": "python3"
  },
  "language_info": {
   "codemirror_mode": {
    "name": "ipython",
    "version": 3
   },
   "file_extension": ".py",
   "mimetype": "text/x-python",
   "name": "python",
   "nbconvert_exporter": "python",
   "pygments_lexer": "ipython3",
   "version": "3.11.9"
  }
 },
 "nbformat": 4,
 "nbformat_minor": 5
}
